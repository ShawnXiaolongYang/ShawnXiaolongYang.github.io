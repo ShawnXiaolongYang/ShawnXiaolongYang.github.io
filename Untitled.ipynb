{
 "cells": [
  {
   "cell_type": "code",
   "execution_count": 5,
   "metadata": {
    "collapsed": false
   },
   "outputs": [],
   "source": [
    "from requests import put, get\n",
    "\n"
   ]
  },
  {
   "cell_type": "code",
   "execution_count": null,
   "metadata": {
    "collapsed": false
   },
   "outputs": [],
   "source": [
    "print get(\"http://localhost:5000/BasicInfo\", params = {\"node\": \"Researcher\", \"name\": \"Richard Socher\"}).json()\n"
   ]
  },
  {
   "cell_type": "markdown",
   "metadata": {
    "collapsed": false
   },
   "source": [
    "print get(\"http://localhost:5000/pprRecommend/PtoR\", params = {\"name\": \"Richard Socher\"}).json()"
   ]
  },
  {
   "cell_type": "code",
   "execution_count": null,
   "metadata": {
    "collapsed": false
   },
   "outputs": [],
   "source": [
    "print get(\"http://localhost:5000/BasicInfo\", params = {\"node\": \"Paper\", \"title\": \"Dynamic Memory Networks for Visual and Textual Question Answering.\"}).json()"
   ]
  },
  {
   "cell_type": "code",
   "execution_count": 13,
   "metadata": {
    "collapsed": false
   },
   "outputs": [
    {
     "data": {
      "text/plain": [
       "u'[{\"pagerank\": null, \"year\": \"2014\", \"title\": \"Keyword extraction for blogs based on content richness.\"}, {\"pagerank\": null, \"year\": \"2012\", \"title\": \"Pirates and Treasure\"}, {\"pagerank\": null, \"year\": \"2012\", \"title\": \"On beta-skeleton automata with memory\"}, {\"pagerank\": null, \"year\": \"2014\", \"title\": \"Analyzing a practitioner perspective on relevance of published empirical research in Requirements Engineering.\"}, {\"pagerank\": null, \"year\": \"2015\", \"title\": \"Pose Induction for Novel Object Categories.\"}, {\"pagerank\": null, \"year\": \"2014\", \"title\": \"The Role of Large-Scale Fading in Uplink Massive MIMO Systems.\"}, {\"pagerank\": null, \"year\": \"2015\", \"title\": \"A Brief Survey of Image Processing Algorithms in Electrical Capacitance Tomography.\"}, {\"pagerank\": null, \"year\": \"2011\", \"title\": \"Relay-Assisted Interference Channel: Degrees of Freedom\"}, {\"pagerank\": null, \"year\": \"2010\", \"title\": \"Slopes of Tilings\"}, {\"pagerank\": null, \"year\": \"2014\", \"title\": \"A Note on Quantum Security for Post-Quantum Cryptography.\"}, {\"pagerank\": null, \"year\": \"2012\", \"title\": \"Comparison of Speech Activity Detection Techniques for Speaker Recognition\"}, {\"pagerank\": null, \"year\": \"2011\", \"title\": \"Multi Agent Communication System for Online Auction with Decision Support System by JADE and TRACE\"}, {\"pagerank\": null, \"year\": \"2014\", \"title\": \"Image Compressive Sensing Recovery Using Adaptively Learned Sparsifying Basis via L0 Minimization.\"}, {\"pagerank\": null, \"year\": \"2015\", \"title\": \"Structure Learning in Bayesian Networks of Moderate Size by Efficient Sampling.\"}, {\"pagerank\": null, \"year\": \"2013\", \"title\": \"Stochastic Modeling of Large-Scale Solid-State Storage Systems: Analysis Design Tradeoffs and Optimization\"}, {\"pagerank\": null, \"year\": \"2006\", \"title\": \"Using Users\\' Expectations to Adapt Business Intelligence Systems\"}, {\"pagerank\": null, \"year\": \"2012\", \"title\": \"Pirates and Treasure\"}, {\"pagerank\": null, \"year\": \"2012\", \"title\": \"On beta-skeleton automata with memory\"}, {\"pagerank\": null, \"year\": \"2014\", \"title\": \"Analyzing a practitioner perspective on relevance of published empirical research in Requirements Engineering.\"}, {\"pagerank\": null, \"year\": \"2015\", \"title\": \"Pose Induction for Novel Object Categories.\"}, {\"pagerank\": null, \"year\": \"2014\", \"title\": \"The Role of Large-Scale Fading in Uplink Massive MIMO Systems.\"}, {\"pagerank\": null, \"year\": \"2015\", \"title\": \"A Brief Survey of Image Processing Algorithms in Electrical Capacitance Tomography.\"}, {\"pagerank\": null, \"year\": \"2011\", \"title\": \"Relay-Assisted Interference Channel: Degrees of Freedom\"}, {\"pagerank\": null, \"year\": \"2010\", \"title\": \"Slopes of Tilings\"}, {\"pagerank\": null, \"year\": \"2014\", \"title\": \"A Note on Quantum Security for Post-Quantum Cryptography.\"}, {\"pagerank\": null, \"year\": \"2012\", \"title\": \"Comparison of Speech Activity Detection Techniques for Speaker Recognition\"}, {\"pagerank\": null, \"year\": \"2011\", \"title\": \"Multi Agent Communication System for Online Auction with Decision Support System by JADE and TRACE\"}, {\"pagerank\": null, \"year\": \"2014\", \"title\": \"Image Compressive Sensing Recovery Using Adaptively Learned Sparsifying Basis via L0 Minimization.\"}, {\"pagerank\": null, \"year\": \"2015\", \"title\": \"Structure Learning in Bayesian Networks of Moderate Size by Efficient Sampling.\"}, {\"pagerank\": null, \"year\": \"2013\", \"title\": \"Stochastic Modeling of Large-Scale Solid-State Storage Systems: Analysis Design Tradeoffs and Optimization\"}, {\"pagerank\": null, \"year\": \"2006\", \"title\": \"Using Users\\' Expectations to Adapt Business Intelligence Systems\"}, {\"pagerank\": null, \"year\": \"2012\", \"title\": \"A runtime-restricted strategy for highly parallel scheduling human resource in change management.\"}, {\"pagerank\": null, \"year\": \"2012\", \"title\": \"Pirates and Treasure\"}, {\"pagerank\": null, \"year\": \"2012\", \"title\": \"On beta-skeleton automata with memory\"}, {\"pagerank\": null, \"year\": \"2014\", \"title\": \"Analyzing a practitioner perspective on relevance of published empirical research in Requirements Engineering.\"}, {\"pagerank\": null, \"year\": \"2015\", \"title\": \"Pose Induction for Novel Object Categories.\"}, {\"pagerank\": null, \"year\": \"2014\", \"title\": \"The Role of Large-Scale Fading in Uplink Massive MIMO Systems.\"}, {\"pagerank\": null, \"year\": \"2015\", \"title\": \"A Brief Survey of Image Processing Algorithms in Electrical Capacitance Tomography.\"}, {\"pagerank\": null, \"year\": \"2011\", \"title\": \"Relay-Assisted Interference Channel: Degrees of Freedom\"}, {\"pagerank\": null, \"year\": \"2010\", \"title\": \"Slopes of Tilings\"}, {\"pagerank\": null, \"year\": \"2014\", \"title\": \"A Note on Quantum Security for Post-Quantum Cryptography.\"}, {\"pagerank\": null, \"year\": \"2012\", \"title\": \"Comparison of Speech Activity Detection Techniques for Speaker Recognition\"}, {\"pagerank\": null, \"year\": \"2011\", \"title\": \"Multi Agent Communication System for Online Auction with Decision Support System by JADE and TRACE\"}, {\"pagerank\": null, \"year\": \"2014\", \"title\": \"Image Compressive Sensing Recovery Using Adaptively Learned Sparsifying Basis via L0 Minimization.\"}, {\"pagerank\": null, \"year\": \"2015\", \"title\": \"Structure Learning in Bayesian Networks of Moderate Size by Efficient Sampling.\"}, {\"pagerank\": null, \"year\": \"2013\", \"title\": \"Stochastic Modeling of Large-Scale Solid-State Storage Systems: Analysis Design Tradeoffs and Optimization\"}, {\"pagerank\": null, \"year\": \"2006\", \"title\": \"Using Users\\' Expectations to Adapt Business Intelligence Systems\"}, {\"pagerank\": null, \"year\": \"2012\", \"title\": \"Pirates and Treasure\"}, {\"pagerank\": null, \"year\": \"2012\", \"title\": \"On beta-skeleton automata with memory\"}, {\"pagerank\": null, \"year\": \"2014\", \"title\": \"Analyzing a practitioner perspective on relevance of published empirical research in Requirements Engineering.\"}, {\"pagerank\": null, \"year\": \"2015\", \"title\": \"Pose Induction for Novel Object Categories.\"}, {\"pagerank\": null, \"year\": \"2014\", \"title\": \"The Role of Large-Scale Fading in Uplink Massive MIMO Systems.\"}, {\"pagerank\": null, \"year\": \"2015\", \"title\": \"A Brief Survey of Image Processing Algorithms in Electrical Capacitance Tomography.\"}, {\"pagerank\": null, \"year\": \"2011\", \"title\": \"Relay-Assisted Interference Channel: Degrees of Freedom\"}, {\"pagerank\": null, \"year\": \"2010\", \"title\": \"Slopes of Tilings\"}, {\"pagerank\": null, \"year\": \"2014\", \"title\": \"A Note on Quantum Security for Post-Quantum Cryptography.\"}, {\"pagerank\": null, \"year\": \"2012\", \"title\": \"Comparison of Speech Activity Detection Techniques for Speaker Recognition\"}, {\"pagerank\": null, \"year\": \"2011\", \"title\": \"Multi Agent Communication System for Online Auction with Decision Support System by JADE and TRACE\"}, {\"pagerank\": null, \"year\": \"2014\", \"title\": \"Image Compressive Sensing Recovery Using Adaptively Learned Sparsifying Basis via L0 Minimization.\"}, {\"pagerank\": null, \"year\": \"2015\", \"title\": \"Structure Learning in Bayesian Networks of Moderate Size by Efficient Sampling.\"}, {\"pagerank\": null, \"year\": \"2013\", \"title\": \"Stochastic Modeling of Large-Scale Solid-State Storage Systems: Analysis Design Tradeoffs and Optimization\"}, {\"pagerank\": null, \"year\": \"2006\", \"title\": \"Using Users\\' Expectations to Adapt Business Intelligence Systems\"}, {\"pagerank\": null, \"year\": \"2012\", \"title\": \"Pirates and Treasure\"}, {\"pagerank\": null, \"year\": \"2012\", \"title\": \"On beta-skeleton automata with memory\"}, {\"pagerank\": null, \"year\": \"2014\", \"title\": \"Analyzing a practitioner perspective on relevance of published empirical research in Requirements Engineering.\"}, {\"pagerank\": null, \"year\": \"2015\", \"title\": \"Pose Induction for Novel Object Categories.\"}, {\"pagerank\": null, \"year\": \"2014\", \"title\": \"The Role of Large-Scale Fading in Uplink Massive MIMO Systems.\"}, {\"pagerank\": null, \"year\": \"2015\", \"title\": \"A Brief Survey of Image Processing Algorithms in Electrical Capacitance Tomography.\"}, {\"pagerank\": null, \"year\": \"2011\", \"title\": \"Relay-Assisted Interference Channel: Degrees of Freedom\"}, {\"pagerank\": null, \"year\": \"2010\", \"title\": \"Slopes of Tilings\"}, {\"pagerank\": null, \"year\": \"2014\", \"title\": \"A Note on Quantum Security for Post-Quantum Cryptography.\"}, {\"pagerank\": null, \"year\": \"2012\", \"title\": \"Comparison of Speech Activity Detection Techniques for Speaker Recognition\"}, {\"pagerank\": null, \"year\": \"2011\", \"title\": \"Multi Agent Communication System for Online Auction with Decision Support System by JADE and TRACE\"}, {\"pagerank\": null, \"year\": \"2014\", \"title\": \"Image Compressive Sensing Recovery Using Adaptively Learned Sparsifying Basis via L0 Minimization.\"}, {\"pagerank\": null, \"year\": \"2015\", \"title\": \"Structure Learning in Bayesian Networks of Moderate Size by Efficient Sampling.\"}, {\"pagerank\": null, \"year\": \"2013\", \"title\": \"Stochastic Modeling of Large-Scale Solid-State Storage Systems: Analysis Design Tradeoffs and Optimization\"}, {\"pagerank\": null, \"year\": \"2006\", \"title\": \"Using Users\\' Expectations to Adapt Business Intelligence Systems\"}]'"
      ]
     },
     "execution_count": 13,
     "metadata": {},
     "output_type": "execute_result"
    }
   ],
   "source": [
    "get(\"http://localhost:5000/node2vecRecommend/PtoR\", params = {\"name\": \"Richard Socher\"}).json()"
   ]
  },
  {
   "cell_type": "markdown",
   "metadata": {
    "collapsed": false
   },
   "source": [
    "get(\"http://localhost:5000/pprRecommend/PtoR\", params = {\"name\": \"Richard Socher\"}).json()"
   ]
  },
  {
   "cell_type": "markdown",
   "metadata": {
    "collapsed": true
   },
   "source": [
    "from requests import put, get\n",
    "get(\"http://localhost:5000/pprRecommend/RtoP\", params = {\"title\": \"Dynamic Memory Networks for Visual and Textual Question Answering.\"}).json()"
   ]
  },
  {
   "cell_type": "markdown",
   "metadata": {
    "collapsed": true
   },
   "source": [
    "from requests import put, get\n",
    "print get(\"http://localhost:5000/pprRecommend/PtoP\", params = {\"title\": \"Dynamic Memory Networks for Visual and Textual Question Answering.\"}).json()"
   ]
  },
  {
   "cell_type": "markdown",
   "metadata": {
    "collapsed": false
   },
   "source": [
    "print get(\"http://localhost:5000/pprRecommend/RtoR\", params = {\"name\": \"Aviva I. Goller\"}).json()\n"
   ]
  },
  {
   "cell_type": "code",
   "execution_count": null,
   "metadata": {
    "collapsed": false
   },
   "outputs": [],
   "source": []
  },
  {
   "cell_type": "code",
   "execution_count": null,
   "metadata": {
    "collapsed": false
   },
   "outputs": [],
   "source": [
    "print get(\"http://localhost:5000/node2vecRecommend/RtoP\", params = {\"title\": \"Dynamic Memory Networks for Visual and Textual Question Answering.\"}).json()"
   ]
  },
  {
   "cell_type": "code",
   "execution_count": null,
   "metadata": {
    "collapsed": false
   },
   "outputs": [],
   "source": [
    "print get(\"http://localhost:5000/node2vecRecommend/PtoP\", params = {\"title\": \"Dynamic Memory Networks for Visual and Textual Question Answering.\"}).json()"
   ]
  },
  {
   "cell_type": "code",
   "execution_count": null,
   "metadata": {
    "collapsed": false
   },
   "outputs": [],
   "source": [
    "print get(\"http://localhost:5000/node2vecRecommend/RtoP\", params = {\"title\": \"Seeing Sounds and Hearing Colors: An Event-related Potential Study of Auditory-Visual Synesthesia.\"}).json()"
   ]
  },
  {
   "cell_type": "code",
   "execution_count": 1,
   "metadata": {
    "collapsed": true
   },
   "outputs": [],
   "source": [
    "from neo4j.v1 import GraphDatabase, basic_auth\n",
    "from embedding import node2vecPaperToResearcher, node2vecResearcherToResearcher, node2vecResearcherToPaper, node2vecPaperToPaper\n",
    "\n",
    "\n",
    "driver = GraphDatabase.driver(\"bolt://localhost\", auth = basic_auth(\"neo4j\", \"woainizhongguo\"))\n",
    "session = driver.session()\n",
    "\n"
   ]
  },
  {
   "cell_type": "code",
   "execution_count": 2,
   "metadata": {
    "collapsed": false
   },
   "outputs": [],
   "source": [
    "def printList(L):\n",
    "\tprint \"Number of recommendations: %d\" % len(L)\n",
    "\tfor l in L:\n",
    "\t\tprint l"
   ]
  },
  {
   "cell_type": "markdown",
   "metadata": {
    "collapsed": false
   },
   "source": [
    "recommender = node2vecPaperToResearcher(session)\n",
    "print \"***Recommend paper to researcher***\"\n",
    "printList(recommender.recommend(\"Richard Socher\"))"
   ]
  },
  {
   "cell_type": "code",
   "execution_count": 9,
   "metadata": {
    "collapsed": false
   },
   "outputs": [
    {
     "name": "stdout",
     "output_type": "stream",
     "text": [
      "{u'message': u'Internal Server Error'}\n"
     ]
    }
   ],
   "source": [
    "print get(\"http://localhost:5000/node2vecRecommend/PtoR\", params = {\"name\": \"Richard Socher\"}).json()"
   ]
  },
  {
   "cell_type": "code",
   "execution_count": 7,
   "metadata": {
    "collapsed": false
   },
   "outputs": [
    {
     "name": "stdout",
     "output_type": "stream",
     "text": [
      "{u'message': u'Internal Server Error'}\n"
     ]
    }
   ],
   "source": [
    "print get(\"http://localhost:5000/node2vecRecommend/PtoR\", params = {\"name\": \"Richard Socher\"}).json()"
   ]
  },
  {
   "cell_type": "code",
   "execution_count": 10,
   "metadata": {
    "collapsed": false
   },
   "outputs": [
    {
     "name": "stdout",
     "output_type": "stream",
     "text": [
      "{u'message': u'Internal Server Error'}\n"
     ]
    }
   ],
   "source": [
    "print get(\"http://localhost:5000/node2vecRecommend/RtoP\", params = {\"title\": \"Dynamic Memory Networks for Visual and Textual Question Answering.\"}).json()"
   ]
  },
  {
   "cell_type": "code",
   "execution_count": null,
   "metadata": {
    "collapsed": true
   },
   "outputs": [],
   "source": []
  }
 ],
 "metadata": {
  "kernelspec": {
   "display_name": "Python 2",
   "language": "python",
   "name": "python2"
  },
  "language_info": {
   "codemirror_mode": {
    "name": "ipython",
    "version": 2
   },
   "file_extension": ".py",
   "mimetype": "text/x-python",
   "name": "python",
   "nbconvert_exporter": "python",
   "pygments_lexer": "ipython2",
   "version": "2.7.11"
  }
 },
 "nbformat": 4,
 "nbformat_minor": 0
}
